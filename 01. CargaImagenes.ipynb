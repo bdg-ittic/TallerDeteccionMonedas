{
 "cells": [
  {
   "cell_type": "code",
   "execution_count": 1,
   "metadata": {},
   "outputs": [],
   "source": [
    "import requests\n",
    "import zipfile\n",
    "from io import BytesIO"
   ]
  },
  {
   "cell_type": "code",
   "execution_count": 2,
   "metadata": {},
   "outputs": [
    {
     "name": "stdout",
     "output_type": "stream",
     "text": [
      "Archivo zip descargado y extraído exitosamente.\n"
     ]
    }
   ],
   "source": [
    "# Ingresar URL brindada por Roboflow\n",
    "url = 'https://app.roboflow.com/ds/8qDt45Ye6f?key=dDkSujV6N1'\n",
    "\n",
    "# Realiza la solicitud para obtener el contenido del archivo zip\n",
    "response = requests.get(url)\n",
    "\n",
    "# Verifica si la solicitud fue exitosa\n",
    "if response.status_code == 200:\n",
    "    # Lee el contenido del archivo zip en memoria\n",
    "    zip_content = BytesIO(response.content)\n",
    "    \n",
    "    # Extrae el archivo zip\n",
    "    with zipfile.ZipFile(zip_content, 'r') as zip_ref:\n",
    "        zip_ref.extractall('custom_dataset')\n",
    "    print(\"Archivo zip descargado y extraído exitosamente.\")\n",
    "else:\n",
    "    print(\"No se pudo descargar el archivo zip. Código de estado:\", response.status_code)"
   ]
  }
 ],
 "metadata": {
  "kernelspec": {
   "display_name": "Python 3 (ipykernel)",
   "language": "python",
   "name": "python3"
  },
  "language_info": {
   "codemirror_mode": {
    "name": "ipython",
    "version": 3
   },
   "file_extension": ".py",
   "mimetype": "text/x-python",
   "name": "python",
   "nbconvert_exporter": "python",
   "pygments_lexer": "ipython3",
   "version": "3.10.8"
  }
 },
 "nbformat": 4,
 "nbformat_minor": 2
}
